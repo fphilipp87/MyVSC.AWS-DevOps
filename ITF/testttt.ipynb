{
 "cells": [
  {
   "cell_type": "code",
   "execution_count": 1,
   "metadata": {},
   "outputs": [
    {
     "name": "stdout",
     "output_type": "stream",
     "text": [
      "[1, 4, 9, 16]\n"
     ]
    }
   ],
   "source": [
    "def square(num):\n",
    "    return num ** 2\n",
    "\n",
    "iterable = [1, 2, 3, 4]\n",
    "result = map(square, iterable)\n",
    "print(list(result))"
   ]
  },
  {
   "cell_type": "code",
   "execution_count": 2,
   "metadata": {},
   "outputs": [
    {
     "name": "stdout",
     "output_type": "stream",
     "text": [
      "<class 'map'>\n",
      "[1, 4, 9, 16, 25]\n",
      "[1, 4, 9, 16, 25]\n"
     ]
    }
   ],
   "source": [
    "iterable = [1, 2, 3, 4, 5]\n",
    "map(lambda x: x**2, iterable)\n",
    "result = map(lambda x: x**2, iterable)\n",
    "print(type(result))  # it's a map type\n",
    "\n",
    "print(list(result))  # we've converted it to list type to print\n",
    "\n",
    "print(list(map(lambda x: x**2, iterable)))  # you can print directly\n"
   ]
  },
  {
   "cell_type": "code",
   "execution_count": null,
   "metadata": {},
   "outputs": [],
   "source": [
    "vowel_list = ['a', 'e', 'i', 'o', 'u']\n",
    "first_ten = ['a', 'b', 'c', 'd', 'e', 'f', 'g', 'h', 'i', 'j']"
   ]
  },
  {
   "cell_type": "code",
   "execution_count": 8,
   "metadata": {},
   "outputs": [
    {
     "name": "stdout",
     "output_type": "stream",
     "text": [
      "['besee']\n",
      "['besee', 'beset']\n"
     ]
    }
   ],
   "source": [
    "\n",
    "words = [\"bescribbled\", \"bescribbling\", \"bescurf\", \"bescurvy\", \"bescutcheon\", \"beseam\", \"besee\", \"beseech\", \"beseeched\", \"beseecher\", \"beseechers\", \"beseeches\", \"beseeching\", \"beseechingly\", \"beseechingness\", \"beseechment\", \"beseek\", \"beseem\", \"beseemed\", \"beseeming\", \"beseemingly\", \"beseemingness\", \"beseemly\", \"beseemliness\", \"beseems\", \"beseen\", \"beseige\", \"Beseleel\", \"beset\"]\n",
    "words_5letters = []\n",
    "for word in words:\n",
    "    if len(word) == 5 and word.isalpha():\n",
    "        words_5letters.append(word.lower())\n",
    "        print(words_5letters)"
   ]
  },
  {
   "cell_type": "code",
   "execution_count": 13,
   "metadata": {},
   "outputs": [
    {
     "name": "stdout",
     "output_type": "stream",
     "text": [
      "['besee', 'beset']\n"
     ]
    }
   ],
   "source": [
    "\n",
    "gray_words = []\n",
    "gray_letters = \"fxg\"\n",
    "\n",
    "for word in words_5letters:\n",
    "    gray_counter = 0\n",
    "    for letter in gray_letters:\n",
    "        if letter not in word:\n",
    "            gray_counter +=1\n",
    "        if gray_counter == len(gray_letters):\n",
    "            gray_words.append(word)\n",
    "print(gray_words)"
   ]
  },
  {
   "cell_type": "code",
   "execution_count": null,
   "metadata": {},
   "outputs": [],
   "source": [
    "gray_letters = \"padin\"\n",
    "green_letters = [\"\",\"\",\"\",\"\",\"\"]\n",
    "yellow_letters = \"sty\""
   ]
  }
 ],
 "metadata": {
  "interpreter": {
   "hash": "aee8b7b246df8f9039afb4144a1f6fd8d2ca17a180786b69acc140d282b71a49"
  },
  "kernelspec": {
   "display_name": "Python 3.10.2 64-bit",
   "language": "python",
   "name": "python3"
  },
  "language_info": {
   "codemirror_mode": {
    "name": "ipython",
    "version": 3
   },
   "file_extension": ".py",
   "mimetype": "text/x-python",
   "name": "python",
   "nbconvert_exporter": "python",
   "pygments_lexer": "ipython3",
   "version": "3.10.2"
  },
  "orig_nbformat": 4
 },
 "nbformat": 4,
 "nbformat_minor": 2
}
