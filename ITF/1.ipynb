{
  "cells": [
    {
      "cell_type": "code",
      "execution_count": 1,
      "metadata": {
        "colab": {
          "base_uri": "https://localhost:8080/"
        },
        "id": "zBfQfxcyAg2e",
        "outputId": "a545b60d-8361-492f-fc44-38ad2a2c825a"
      },
      "outputs": [
        {
          "name": "stdout",
          "output_type": "stream",
          "text": [
            "Hello World!\n"
          ]
        }
      ],
      "source": [
        "print('Hello World!')"
      ]
    },
    {
      "cell_type": "code",
      "execution_count": 2,
      "metadata": {
        "colab": {
          "base_uri": "https://localhost:8080/"
        },
        "id": "HgMx4QrSBAwf",
        "outputId": "13dfdef4-0d5a-4956-fda4-c617b52c6478"
      },
      "outputs": [
        {
          "data": {
            "text/plain": [
              "<function print>"
            ]
          },
          "execution_count": 2,
          "metadata": {},
          "output_type": "execute_result"
        }
      ],
      "source": [
        "print"
      ]
    },
    {
      "cell_type": "code",
      "execution_count": 3,
      "metadata": {
        "colab": {
          "base_uri": "https://localhost:8080/"
        },
        "id": "z3PBV7ZDBrGj",
        "outputId": "bee6faec-dd36-4665-a999-a42c6b94aa5a"
      },
      "outputs": [
        {
          "name": "stdout",
          "output_type": "stream",
          "text": [
            "\n"
          ]
        }
      ],
      "source": [
        "print()"
      ]
    },
    {
      "cell_type": "code",
      "execution_count": 4,
      "metadata": {
        "colab": {
          "base_uri": "https://localhost:8080/",
          "height": 130
        },
        "id": "jShN1SvrBwz-",
        "outputId": "12190818-9cf8-4714-d764-039be17aae2b"
      },
      "outputs": [
        {
          "ename": "SyntaxError",
          "evalue": "unterminated string literal (detected at line 1) (3285044097.py, line 1)",
          "output_type": "error",
          "traceback": [
            "\u001b[0;36m  Input \u001b[0;32mIn [4]\u001b[0;36m\u001b[0m\n\u001b[0;31m    print(\"Hello world')\u001b[0m\n\u001b[0m          ^\u001b[0m\n\u001b[0;31mSyntaxError\u001b[0m\u001b[0;31m:\u001b[0m unterminated string literal (detected at line 1)\n"
          ]
        }
      ],
      "source": [
        "print(\"Hello world')"
      ]
    },
    {
      "cell_type": "code",
      "execution_count": null,
      "metadata": {
        "colab": {
          "base_uri": "https://localhost:8080/"
        },
        "id": "ma6nU-r_CzN1",
        "outputId": "8552a5a4-eb1d-4241-d82b-894239cff956"
      },
      "outputs": [
        {
          "name": "stdout",
          "output_type": "stream",
          "text": [
            "Hello world')\n"
          ]
        }
      ],
      "source": [
        "print(\"Hello world')\")"
      ]
    },
    {
      "cell_type": "code",
      "execution_count": null,
      "metadata": {
        "colab": {
          "base_uri": "https://localhost:8080/",
          "height": 130
        },
        "id": "3OikKu65DH2G",
        "outputId": "c68fcc8c-1eaf-4b17-d69e-0d763cd5bb4c"
      },
      "outputs": [
        {
          "ename": "SyntaxError",
          "evalue": "ignored",
          "output_type": "error",
          "traceback": [
            "\u001b[0;36m  File \u001b[0;32m\"<ipython-input-8-d6256d11cded>\"\u001b[0;36m, line \u001b[0;32m1\u001b[0m\n\u001b[0;31m    print(\"My name is Andrew\u001b[0m\n\u001b[0m                             ^\u001b[0m\n\u001b[0;31mSyntaxError\u001b[0m\u001b[0;31m:\u001b[0m EOL while scanning string literal\n"
          ]
        }
      ],
      "source": [
        "print(\"My name is Andrew \n",
        "    it is nice to be here\n",
        "    this is a very good lesson\")"
      ]
    },
    {
      "cell_type": "code",
      "execution_count": null,
      "metadata": {
        "colab": {
          "base_uri": "https://localhost:8080/"
        },
        "id": "Qn5ojGDiDewm",
        "outputId": "54afc667-9b4b-4970-bb6f-76f4f1a45c63"
      },
      "outputs": [
        {
          "name": "stdout",
          "output_type": "stream",
          "text": [
            "My name is Andrew \n",
            "it is nice to be here\n",
            "this is a very good lesson\n"
          ]
        }
      ],
      "source": [
        "print(\"\"\"My name is Andrew \n",
        "it is nice to be here\n",
        "this is a very good lesson\"\"\")"
      ]
    },
    {
      "cell_type": "code",
      "execution_count": null,
      "metadata": {
        "colab": {
          "base_uri": "https://localhost:8080/"
        },
        "id": "9WTTvtkOD6Zd",
        "outputId": "b8d95e26-74e7-489b-cb38-f378074f18c2"
      },
      "outputs": [
        {
          "name": "stdout",
          "output_type": "stream",
          "text": [
            "My name is Andrew \n",
            "it is nice to be here\n",
            "this is a very good lesson\n"
          ]
        }
      ],
      "source": [
        "print('''My name is Andrew \n",
        "it is nice to be here\n",
        "this is a very good lesson''')"
      ]
    },
    {
      "cell_type": "code",
      "execution_count": null,
      "metadata": {
        "colab": {
          "base_uri": "https://localhost:8080/",
          "height": 130
        },
        "id": "zlfLp3fHED6x",
        "outputId": "78581667-6f0e-46f3-ea8b-bcfe57d10507"
      },
      "outputs": [
        {
          "ename": "SyntaxError",
          "evalue": "ignored",
          "output_type": "error",
          "traceback": [
            "\u001b[0;36m  File \u001b[0;32m\"<ipython-input-12-dbabec79ac1a>\"\u001b[0;36m, line \u001b[0;32m1\u001b[0m\n\u001b[0;31m    print(```My name is Andrew\u001b[0m\n\u001b[0m          ^\u001b[0m\n\u001b[0;31mSyntaxError\u001b[0m\u001b[0;31m:\u001b[0m invalid syntax\n"
          ]
        }
      ],
      "source": [
        "print(```My name is Andrew \n",
        "it is nice to be here\n",
        "this is a very good lesson```)"
      ]
    },
    {
      "cell_type": "code",
      "execution_count": null,
      "metadata": {
        "colab": {
          "base_uri": "https://localhost:8080/"
        },
        "id": "Ub7DsjvfEZUN",
        "outputId": "e746d39c-df06-4788-b004-7d808d8d85c7"
      },
      "outputs": [
        {
          "name": "stdout",
          "output_type": "stream",
          "text": [
            "My name is Andrew \n",
            "it is nice to be here\n",
            "this is a very good lesson\n",
            "this is the fourth line\n"
          ]
        }
      ],
      "source": [
        "print('''My name is Andrew \n",
        "it is nice to be here\n",
        "this is a very good lesson\n",
        "this is the fourth line''')"
      ]
    },
    {
      "cell_type": "code",
      "execution_count": null,
      "metadata": {
        "colab": {
          "base_uri": "https://localhost:8080/"
        },
        "id": "0f-WiCmQEslk",
        "outputId": "1ead80a9-8dfd-4ad3-c537-6e2b8add862a"
      },
      "outputs": [
        {
          "name": "stdout",
          "output_type": "stream",
          "text": [
            "My name is Andrew 'I'm so happy'\n",
            "it is nice to be here\n",
            "this is a very good lesson\n",
            "this is the fourth line\n"
          ]
        }
      ],
      "source": [
        "print('''My name is Andrew 'I'm so happy'\n",
        "it is nice to be here\n",
        "this is a very good lesson\n",
        "this is the fourth line''')"
      ]
    },
    {
      "cell_type": "code",
      "execution_count": null,
      "metadata": {
        "colab": {
          "base_uri": "https://localhost:8080/"
        },
        "id": "x-ypl_9kE_Nt",
        "outputId": "3bfb3074-5562-4bc2-8282-a82b8f4cc524"
      },
      "outputs": [
        {
          "name": "stdout",
          "output_type": "stream",
          "text": [
            "My name is Andrew \"I'm so happy\"\n",
            "it is nice to be here\n",
            "this is a very good lesson\n",
            "this is the fourth line\n"
          ]
        }
      ],
      "source": [
        "print(\"\"\"My name is Andrew \"I'm so happy\"\n",
        "it is nice to be here\n",
        "this is a very good lesson\n",
        "this is the fourth line\"\"\")"
      ]
    },
    {
      "cell_type": "code",
      "execution_count": null,
      "metadata": {
        "colab": {
          "base_uri": "https://localhost:8080/"
        },
        "id": "8S5ej8-lFfgH",
        "outputId": "5cd96a48-2cc1-4311-90b5-b910257f9dcc"
      },
      "outputs": [
        {
          "name": "stdout",
          "output_type": "stream",
          "text": [
            "My name is Andrew \"I'm so happy\"\n",
            "\n",
            "  it is nice to be here\n",
            "      this is a very good lesson\n",
            "        this is the fourth line\n"
          ]
        }
      ],
      "source": [
        "print(\"\"\"My name is Andrew \"I'm so happy\"\n",
        "\n",
        "  it is nice to be here\n",
        "      this is a very good lesson\n",
        "        this is the fourth line\"\"\")"
      ]
    },
    {
      "cell_type": "code",
      "execution_count": null,
      "metadata": {
        "colab": {
          "base_uri": "https://localhost:8080/"
        },
        "id": "09J4wPDiFwWx",
        "outputId": "8dfe0ef7-1397-4e63-96bb-6f453517ff5f"
      },
      "outputs": [
        {
          "name": "stdout",
          "output_type": "stream",
          "text": [
            "<class 'float'>\n"
          ]
        }
      ],
      "source": [
        "print(type(3.14))"
      ]
    },
    {
      "cell_type": "code",
      "execution_count": null,
      "metadata": {
        "colab": {
          "base_uri": "https://localhost:8080/"
        },
        "id": "u0SfljdfGUE5",
        "outputId": "c723f541-bbfd-4db7-abee-3f4e6be2bb2a"
      },
      "outputs": [
        {
          "name": "stdout",
          "output_type": "stream",
          "text": [
            "<class 'str'>\n"
          ]
        }
      ],
      "source": [
        "print(type(\"3.14\"))"
      ]
    },
    {
      "cell_type": "code",
      "execution_count": null,
      "metadata": {
        "colab": {
          "base_uri": "https://localhost:8080/",
          "height": 35
        },
        "id": "oGTVqsFLGXqV",
        "outputId": "0df48c55-522c-4adb-d0b3-84ac076b999c"
      },
      "outputs": [
        {
          "data": {
            "application/vnd.google.colaboratory.intrinsic+json": {
              "type": "string"
            },
            "text/plain": [
              "'text'"
            ]
          },
          "execution_count": 20,
          "metadata": {},
          "output_type": "execute_result"
        }
      ],
      "source": [
        "\"test\"\n",
        "\"text\""
      ]
    },
    {
      "cell_type": "code",
      "execution_count": null,
      "metadata": {
        "colab": {
          "base_uri": "https://localhost:8080/"
        },
        "id": "WBDcZtD5Gk7h",
        "outputId": "2009d811-db95-49bb-ea8e-6f21bc2f761d"
      },
      "outputs": [
        {
          "name": "stdout",
          "output_type": "stream",
          "text": [
            "'We should have enough time for our family\"\n"
          ]
        }
      ],
      "source": [
        "print(''''We should have enough time for our family\"''')"
      ]
    },
    {
      "cell_type": "code",
      "execution_count": null,
      "metadata": {
        "colab": {
          "base_uri": "https://localhost:8080/"
        },
        "id": "g2XTysSxKSRM",
        "outputId": "31fc510f-22ef-4faf-bc6c-c4587fd47b3b"
      },
      "outputs": [
        {
          "name": "stdout",
          "output_type": "stream",
          "text": [
            "\n",
            "\n"
          ]
        }
      ],
      "source": [
        "print()\n",
        "print('')"
      ]
    },
    {
      "cell_type": "code",
      "execution_count": null,
      "metadata": {
        "colab": {
          "base_uri": "https://localhost:8080/",
          "height": 130
        },
        "id": "lprnjOzBKsDJ",
        "outputId": "c392dfe1-2b8b-419c-eb36-8e77b22c8767"
      },
      "outputs": [
        {
          "ename": "SyntaxError",
          "evalue": "ignored",
          "output_type": "error",
          "traceback": [
            "\u001b[0;36m  File \u001b[0;32m\"<ipython-input-25-1eeb94591c0c>\"\u001b[0;36m, line \u001b[0;32m2\u001b[0m\n\u001b[0;31m    print('''')\u001b[0m\n\u001b[0m               ^\u001b[0m\n\u001b[0;31mSyntaxError\u001b[0m\u001b[0;31m:\u001b[0m EOF while scanning triple-quoted string literal\n"
          ]
        }
      ],
      "source": [
        "print()\n",
        "print('''')"
      ]
    },
    {
      "cell_type": "markdown",
      "metadata": {
        "id": "2v0YJO65Ly10"
      },
      "source": [
        "single quote  ' ''  '''\n",
        "double qute \"    \"\"   \"\"\"    \n",
        "\n",
        "'''' not equal to \"\""
      ]
    },
    {
      "cell_type": "code",
      "execution_count": null,
      "metadata": {
        "id": "QqtMOlvBLHxS"
      },
      "outputs": [],
      "source": [
        "# single quote  ' ''  '''\n",
        "# double qute \"    \"\"   \"\"\"    \n",
        "\n",
        "# '''' not equal to \"\""
      ]
    },
    {
      "cell_type": "code",
      "execution_count": null,
      "metadata": {
        "colab": {
          "base_uri": "https://localhost:8080/"
        },
        "id": "MaVaZl6mQRnE",
        "outputId": "ea2ab662-0a43-4b42-b294-6b3abb770e8c"
      },
      "outputs": [
        {
          "name": "stdout",
          "output_type": "stream",
          "text": [
            "hello\n"
          ]
        }
      ],
      "source": [
        "print(\"hello\")  # this is an inline comment"
      ]
    },
    {
      "cell_type": "code",
      "execution_count": null,
      "metadata": {
        "colab": {
          "base_uri": "https://localhost:8080/"
        },
        "id": "RQhw4EaQQajQ",
        "outputId": "d9ab96f1-80bb-4632-de7e-57c865febb06"
      },
      "outputs": [
        {
          "name": "stdout",
          "output_type": "stream",
          "text": [
            "hello\n"
          ]
        }
      ],
      "source": [
        "print(\"hello\")#this is an inline comment"
      ]
    },
    {
      "cell_type": "code",
      "execution_count": null,
      "metadata": {
        "colab": {
          "base_uri": "https://localhost:8080/"
        },
        "id": "nQlVdKmgQeyM",
        "outputId": "429becb9-aeba-43ea-da4a-b08af5e10fff"
      },
      "outputs": [
        {
          "name": "stdout",
          "output_type": "stream",
          "text": [
            "hello\n"
          ]
        }
      ],
      "source": [
        "print(\"hello\")\n",
        "# this is single line comment"
      ]
    },
    {
      "cell_type": "code",
      "execution_count": null,
      "metadata": {
        "id": "QlLTCJiRQp1D"
      },
      "outputs": [],
      "source": [
        "# this is first line\n",
        "# this is second line\n",
        "# this is third line"
      ]
    },
    {
      "cell_type": "code",
      "execution_count": null,
      "metadata": {
        "colab": {
          "base_uri": "https://localhost:8080/",
          "height": 35
        },
        "id": "rObAi9C_R2DD",
        "outputId": "bd28bd28-41a1-474b-9476-7e3a16abcfb4"
      },
      "outputs": [
        {
          "data": {
            "application/vnd.google.colaboratory.intrinsic+json": {
              "type": "string"
            },
            "text/plain": [
              "'3.14'"
            ]
          },
          "execution_count": 38,
          "metadata": {},
          "output_type": "execute_result"
        }
      ],
      "source": [
        "3.14\n",
        "\"3.14\""
      ]
    },
    {
      "cell_type": "code",
      "execution_count": null,
      "metadata": {
        "colab": {
          "base_uri": "https://localhost:8080/"
        },
        "id": "suP27ObGQ08b",
        "outputId": "10f095c8-c42b-4bb8-8d6a-b351240f4d5c"
      },
      "outputs": [
        {
          "data": {
            "text/plain": [
              "3.14"
            ]
          },
          "execution_count": 32,
          "metadata": {},
          "output_type": "execute_result"
        }
      ],
      "source": [
        "\"3.14\"\n",
        "3.14"
      ]
    },
    {
      "cell_type": "code",
      "execution_count": null,
      "metadata": {
        "colab": {
          "base_uri": "https://localhost:8080/"
        },
        "id": "Tv7nG1hqRAWg",
        "outputId": "9fcf8924-34fc-470b-880a-35f4604884df"
      },
      "outputs": [
        {
          "name": "stdout",
          "output_type": "stream",
          "text": [
            "8\n"
          ]
        }
      ],
      "source": [
        "print(3 + 5)"
      ]
    },
    {
      "cell_type": "code",
      "execution_count": null,
      "metadata": {
        "colab": {
          "base_uri": "https://localhost:8080/"
        },
        "id": "-xKmicjqRMMz",
        "outputId": "c12ec123-b307-4787-af7a-55f1cb930e74"
      },
      "outputs": [
        {
          "data": {
            "text/plain": [
              "8"
            ]
          },
          "execution_count": 35,
          "metadata": {},
          "output_type": "execute_result"
        }
      ],
      "source": [
        "3 + 5"
      ]
    },
    {
      "cell_type": "code",
      "execution_count": null,
      "metadata": {
        "colab": {
          "base_uri": "https://localhost:8080/",
          "height": 165
        },
        "id": "695PibWxRUmx",
        "outputId": "0625b549-02b5-4aa2-94c8-2343416e76af"
      },
      "outputs": [
        {
          "ename": "TypeError",
          "evalue": "ignored",
          "output_type": "error",
          "traceback": [
            "\u001b[0;31m---------------------------------------------------------------------------\u001b[0m",
            "\u001b[0;31mTypeError\u001b[0m                                 Traceback (most recent call last)",
            "\u001b[0;32m<ipython-input-36-4fdbead67eba>\u001b[0m in \u001b[0;36m<module>\u001b[0;34m()\u001b[0m\n\u001b[0;32m----> 1\u001b[0;31m \u001b[0mprint\u001b[0m\u001b[0;34m(\u001b[0m\u001b[0;34m\"3\"\u001b[0m \u001b[0;34m+\u001b[0m \u001b[0;36m5\u001b[0m\u001b[0;34m)\u001b[0m\u001b[0;34m\u001b[0m\u001b[0;34m\u001b[0m\u001b[0m\n\u001b[0m",
            "\u001b[0;31mTypeError\u001b[0m: can only concatenate str (not \"int\") to str"
          ]
        }
      ],
      "source": [
        "print(\"3\" + 5)"
      ]
    },
    {
      "cell_type": "code",
      "execution_count": null,
      "metadata": {
        "colab": {
          "base_uri": "https://localhost:8080/"
        },
        "id": "uZL56TzPRjU8",
        "outputId": "2166fbc1-99d4-4a2f-841c-6c0a21da1389"
      },
      "outputs": [
        {
          "name": "stdout",
          "output_type": "stream",
          "text": [
            "35\n"
          ]
        }
      ],
      "source": [
        "print(\"3\" + \"5\")"
      ]
    },
    {
      "cell_type": "code",
      "execution_count": null,
      "metadata": {
        "colab": {
          "base_uri": "https://localhost:8080/",
          "height": 35
        },
        "id": "3KklaGOjRwcD",
        "outputId": "fd6b4720-948c-4bbf-fa13-faed5f6ca312"
      },
      "outputs": [
        {
          "data": {
            "application/vnd.google.colaboratory.intrinsic+json": {
              "type": "string"
            },
            "text/plain": [
              "'35'"
            ]
          },
          "execution_count": 39,
          "metadata": {},
          "output_type": "execute_result"
        }
      ],
      "source": [
        "\"3\" + \"5\""
      ]
    },
    {
      "cell_type": "code",
      "execution_count": null,
      "metadata": {
        "id": "R0h7mBGdSCXA"
      },
      "outputs": [],
      "source": []
    }
  ],
  "metadata": {
    "colab": {
      "name": "01_PythonBasics_02032022.ipynb",
      "provenance": []
    },
    "kernelspec": {
      "display_name": "Python 3",
      "name": "python3"
    },
    "language_info": {
      "codemirror_mode": {
        "name": "ipython",
        "version": 3
      },
      "file_extension": ".py",
      "mimetype": "text/x-python",
      "name": "python",
      "nbconvert_exporter": "python",
      "pygments_lexer": "ipython3",
      "version": "3.10.2"
    }
  },
  "nbformat": 4,
  "nbformat_minor": 0
}
