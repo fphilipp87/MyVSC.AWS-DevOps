{
 "cells": [
  {
   "cell_type": "code",
   "execution_count": 18,
   "metadata": {},
   "outputs": [
    {
     "name": "stdout",
     "output_type": "stream",
     "text": [
      "qq\n",
      "pp\n",
      "rr\n"
     ]
    }
   ],
   "source": [
    "for x in set('pqr'):\n",
    "    print(x*2) # The output would variate in any order because sets are unnordered\n",
    "\n",
    "# Any time you loop through a dictionary or set,\n",
    "# you will go through every key, but you are not guaranteed to get them in any particular order."
   ]
  },
  {
   "cell_type": "code",
   "execution_count": 19,
   "metadata": {},
   "outputs": [
    {
     "name": "stdout",
     "output_type": "stream",
     "text": [
      "{40: 'john', 45: 'peter'}\n"
     ]
    }
   ],
   "source": [
    "# 2. Which of the following statements create a dictionary?\n",
    "d = {} # it is an empty dictionary, it can be created with coleon braces\n",
    "d = {'john':40, 'peter':45}  # This case key is string and value integer\n",
    "d = {40:'john', 45:'peter'}  # this case the opposite but can be also\n",
    "\n",
    "print(d)"
   ]
  },
  {
   "cell_type": "code",
   "execution_count": 10,
   "metadata": {},
   "outputs": [
    {
     "data": {
      "text/plain": [
       "40"
      ]
     },
     "execution_count": 10,
     "metadata": {},
     "output_type": "execute_result"
    }
   ],
   "source": [
    "# 3. What is the output of the following program?\n",
    "\n",
    "d = {\"john\":40, \"peter\":45}\n",
    "d[\"john\"]  # When we look for a key in a dicctionary it retuns the value of the key that is asked for"
   ]
  },
  {
   "cell_type": "code",
   "execution_count": 20,
   "metadata": {},
   "outputs": [
    {
     "name": "stdout",
     "output_type": "stream",
     "text": [
      "['john', 'peter']\n"
     ]
    }
   ],
   "source": [
    "# 4. What would this expression return in Python?\n",
    "\n",
    "d = {\"john\":40, \"peter\":45}\n",
    "print(list(d.keys())) # Looks for the keys of the dicctionary d and then create a list with this keys"
   ]
  },
  {
   "cell_type": "code",
   "execution_count": 21,
   "metadata": {},
   "outputs": [
    {
     "name": "stdout",
     "output_type": "stream",
     "text": [
      "{'a': 1, 'b': [2, 3, 4]}\n"
     ]
    }
   ],
   "source": [
    "# 5. What is the output of the code shown below?\n",
    "\n",
    "a={} # it creates an empty dictionary\n",
    "a['a']=1 # it defines a key for the dictionary 'a' with the value of integer 1\n",
    "a['b']=[2,3,4] # it defines a key for the dictionary 'a' with the value of a list composed for 2, 3, 4\n",
    "print(a) # The result is the dictionary with the content of keys - values defined before\n",
    "\n",
    "# Any time you loop through a dictionary,\n",
    "# you will go through every key, but you are not guaranteed to get them in any particular order."
   ]
  },
  {
   "cell_type": "code",
   "execution_count": 22,
   "metadata": {},
   "outputs": [
    {
     "name": "stdout",
     "output_type": "stream",
     "text": [
      "{'q', 'p', 'c', 'san', 'a', 'b'}\n"
     ]
    }
   ],
   "source": [
    "# 6. What is the output of the code shown below?\n",
    "\n",
    "z=set('abc') # it creates a set with the 'abc' string value inside\n",
    "z.add('san') # add string value 'san' to the z set\n",
    "z.update(set(['p', 'q'])) # Python update() function in set adds elements from a set (passed as an argument) to the set. Adds string elements 'p' and 'q' to the z set.\n",
    "print(z) # the result would be the z set with all the elements added inside\n"
   ]
  },
  {
   "cell_type": "code",
   "execution_count": null,
   "metadata": {},
   "outputs": [],
   "source": [
    "# 7. What is the term to describe this code?\n",
    "\n",
    "# Solution question 1 Answer correct \"B\"\n",
    "\n",
    "tuple = (2, 'apple', 3.5) # Defining a tuple: \"packing\"\n",
    "count, fruit, price = tuple # Extracting de values assingnem them to variables: \"unpacking\"\n",
    "print(count)\n",
    "print(fruit)\n",
    "print(price)\n",
    "\n",
    "# A tupple assignment ist not wrong.\n",
    "# C tupple matching: group the tuples by matching the second element in the tuples. Using dictionary by checking the second element in each tuple.\n",
    "# D tupple duplication: elements or objects are repeated, these repeated elements and objects are duplicate elements in Python tuple.\n",
    "\n",
    "# Multiple assignment is often called “tuple unpacking”  "
   ]
  },
  {
   "cell_type": "code",
   "execution_count": 16,
   "metadata": {},
   "outputs": [
    {
     "name": "stdout",
     "output_type": "stream",
     "text": [
      "[(2019, 'Freshman'), (2020, 'Sophomore'), (2021, 'Junior'), (2022, 'Senior')]\n"
     ]
    }
   ],
   "source": [
    "# 8. What is the output of the code shown below??\n",
    "\n",
    "# Solution question 4 Answer correct \"D\"\n",
    "\n",
    "# It takes the given input as a collection or tuples and returns it as an enumerate object\n",
    "# Enumerate() command adds a counter to each item of the iterable object and returns an enumerate object as an output string.\n",
    "\n",
    "# enumerate(iterable, StarIndex) \n",
    "# Iterable: an object that can be looped. In this case a list. \n",
    "# StartIndex: The count will start with the value given in the startIndex for the first to the last item.\n",
    "\n",
    "# OUTPUT: It will return an iterableobject, with countvalue to each of the items to the iteratorobject given as input. (COUNTVALUE, ELEMENT)\n",
    "\n",
    "college_years = ['Freshman', 'Sophomore', 'Junior', 'Senior']\n",
    "print(list(enumerate(college_years, 2019)))"
   ]
  },
  {
   "cell_type": "code",
   "execution_count": null,
   "metadata": {},
   "outputs": [],
   "source": [
    "\n"
   ]
  }
 ],
 "metadata": {
  "interpreter": {
   "hash": "aee8b7b246df8f9039afb4144a1f6fd8d2ca17a180786b69acc140d282b71a49"
  },
  "kernelspec": {
   "display_name": "Python 3.10.2 64-bit",
   "language": "python",
   "name": "python3"
  },
  "language_info": {
   "codemirror_mode": {
    "name": "ipython",
    "version": 3
   },
   "file_extension": ".py",
   "mimetype": "text/x-python",
   "name": "python",
   "nbconvert_exporter": "python",
   "pygments_lexer": "ipython3",
   "version": "3.10.2"
  },
  "orig_nbformat": 4
 },
 "nbformat": 4,
 "nbformat_minor": 2
}
