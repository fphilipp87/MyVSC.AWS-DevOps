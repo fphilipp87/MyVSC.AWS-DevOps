{
 "cells": [
  {
   "cell_type": "code",
   "execution_count": 3,
   "metadata": {},
   "outputs": [
    {
     "name": "stdout",
     "output_type": "stream",
     "text": [
      "I love you\n",
      "I love you\n",
      "I love you\n"
     ]
    }
   ],
   "source": [
    "# Operations with “for” Loop\n",
    "\n",
    "times = int(input(\"How many times should I say 'I love you'\"))\n",
    "\n",
    "for i in range(times):\n",
    "    print('I love you')"
   ]
  },
  {
   "cell_type": "code",
   "execution_count": 4,
   "metadata": {},
   "outputs": [
    {
     "name": "stdout",
     "output_type": "stream",
     "text": [
      "4x0 =  0\n",
      "4x1 =  4\n",
      "4x2 =  8\n",
      "4x3 =  12\n",
      "4x4 =  16\n",
      "4x5 =  20\n",
      "4x6 =  24\n",
      "4x7 =  28\n",
      "4x8 =  32\n",
      "4x9 =  36\n",
      "4x10 =  40\n"
     ]
    }
   ],
   "source": [
    "# Tabla de multiplicar\n",
    "\n",
    "n = int(input('enter a number between 1-10'))\n",
    "\n",
    "for i in range(11):\n",
    "    print('{}x{} = '.format(n, i), n*i)"
   ]
  },
  {
   "cell_type": "code",
   "execution_count": 5,
   "metadata": {},
   "outputs": [
    {
     "name": "stdout",
     "output_type": "stream",
     "text": [
      "one : 1\n",
      "two : 2\n",
      "three : 3\n",
      "four : 4\n",
      "five : 5\n"
     ]
    }
   ],
   "source": [
    "# for loop with multiple variables and the iterables.\n",
    "\n",
    "text = ['one','two','three','four','five']\n",
    "numbers = [1, 2, 3, 4, 5]\n",
    "for x, y in zip(text, numbers):\n",
    "    print(x, ':', y)"
   ]
  },
  {
   "cell_type": "code",
   "execution_count": null,
   "metadata": {},
   "outputs": [],
   "source": [
    "# Guess the number\n",
    "\n",
    "answer = 44\n",
    "\n",
    "question = 'What number am I thinking of?  '\n",
    "print (\"Let's play the guessing game!\")\n",
    "\n",
    "while True:\n",
    "    guess = int(input(question))\n",
    "\n",
    "    if guess < answer:\n",
    "        print('Little higher')\n",
    "    elif guess > answer:\n",
    "        print('Little lower')\n",
    "    else:  # guess == answer\n",
    "        print('Are you a MINDREADER!!!')\n",
    "        break"
   ]
  },
  {
   "cell_type": "code",
   "execution_count": 6,
   "metadata": {},
   "outputs": [
    {
     "name": "stdout",
     "output_type": "stream",
     "text": [
      "Hello Ahmed\n",
      "Hello Aisha\n",
      "Hello Adam\n",
      "Hello Joseph\n",
      "Hello Gabriel\n"
     ]
    }
   ],
   "source": [
    "names = [\"Ahmed\", \"Aisha\", \"Adam\", \"Joseph\", \"Gabriel\"]\n",
    "for i in names:\n",
    "    print(\"Hello\", i)"
   ]
  },
  {
   "cell_type": "code",
   "execution_count": 11,
   "metadata": {},
   "outputs": [
    {
     "ename": "TypeError",
     "evalue": "'list' object is not callable",
     "output_type": "error",
     "traceback": [
      "\u001b[0;31m---------------------------------------------------------------------------\u001b[0m",
      "\u001b[0;31mTypeError\u001b[0m                                 Traceback (most recent call last)",
      "\u001b[1;32m/Users/federicophilipp/Desktop/ITF/Python/Proyect 01/loops.ipynb Cell 6'\u001b[0m in \u001b[0;36m<module>\u001b[0;34m\u001b[0m\n\u001b[1;32m      <a href='vscode-notebook-cell:/Users/federicophilipp/Desktop/ITF/Python/Proyect%2001/loops.ipynb#ch0000005?line=0'>1</a>\u001b[0m numbers \u001b[39m=\u001b[39m \u001b[39mrange\u001b[39m(\u001b[39m5\u001b[39m)\n\u001b[0;32m----> <a href='vscode-notebook-cell:/Users/federicophilipp/Desktop/ITF/Python/Proyect%2001/loops.ipynb#ch0000005?line=1'>2</a>\u001b[0m lista \u001b[39m=\u001b[39m \u001b[39mlist\u001b[39;49m(numbers)\n\u001b[1;32m      <a href='vscode-notebook-cell:/Users/federicophilipp/Desktop/ITF/Python/Proyect%2001/loops.ipynb#ch0000005?line=2'>3</a>\u001b[0m \u001b[39mprint\u001b[39m(lista)\n",
      "\u001b[0;31mTypeError\u001b[0m: 'list' object is not callable"
     ]
    }
   ],
   "source": [
    "numbers = range(5)\n",
    "lista = list(numbers)\n",
    "print(lista)"
   ]
  },
  {
   "cell_type": "code",
   "execution_count": 15,
   "metadata": {},
   "outputs": [
    {
     "name": "stdout",
     "output_type": "stream",
     "text": [
      "h\n",
      "o\n",
      "l\n",
      "a\n"
     ]
    }
   ],
   "source": [
    "string = str(input(\"ingrese un string\"))\n",
    "for i in string:\n",
    "    print(i, sep='-')"
   ]
  },
  {
   "cell_type": "code",
   "execution_count": 17,
   "metadata": {},
   "outputs": [
    {
     "name": "stdout",
     "output_type": "stream",
     "text": [
      "6 is a prime number\n"
     ]
    }
   ],
   "source": [
    "number = int(input(\"Enter a number\"))\n",
    "if number%number != 0:\n",
    "    print(number, \"is a prime number\")\n",
    "else:\n",
    "    print(number, \"is not a prime number\")\n"
   ]
  },
  {
   "cell_type": "code",
   "execution_count": 30,
   "metadata": {},
   "outputs": [
    {
     "name": "stdout",
     "output_type": "stream",
     "text": [
      "10 is not a prime number\n"
     ]
    }
   ],
   "source": [
    "number = int(input(\"Enter a number\"))\n",
    "\n",
    "for n in range(2, number):\n",
    "    if number % n == 0:\n",
    "        print(number, \"is not a prime number\")\n",
    "        break\n",
    "    else:\n",
    "        print(number, \"is a prime number\")\n",
    "        break"
   ]
  },
  {
   "cell_type": "code",
   "execution_count": 55,
   "metadata": {},
   "outputs": [
    {
     "name": "stdout",
     "output_type": "stream",
     "text": [
      "1\n",
      "9\n",
      "25\n",
      "49\n",
      "81\n",
      "12\n",
      "361\n",
      "441\n",
      "Berlin\n",
      "Munich\n"
     ]
    }
   ],
   "source": [
    "numbers = [1,3,5,7,9,12,19,21]\n",
    "\n",
    "#1 - Which numbers in the list of numbers are a multiple of 3 ?\n",
    "\n",
    "#for i in numbers:\n",
    " #   if i%3 == 0:\n",
    "  #      print(i,\"is multiple of 3\")\n",
    "   # else:\n",
    "    #    print(\"\")\n",
    "        \n",
    "\n",
    "#2 - What is the sum of the numbers in the list of numbers?\n",
    "\n",
    "#numbers = [1,3,5,7,9,12,19,21]\n",
    "#total = 0\n",
    "#for i in numbers:\n",
    "#    total = total + i\n",
    "#    print(total)\n",
    "\n",
    "# 3- Take the square of the odd numbers in the list of numbers.\n",
    "\n",
    "numbers = [1,3,5,7,9,12,19,21]\n",
    "for number in numbers:\n",
    "    if number%2 != 0:\n",
    "        print(number**2)\n",
    "    else:\n",
    "        print(number)\n",
    "\n",
    "\n",
    "cities = ['Berlin','Hamburg','Munich','Frankfurt','Stuttgart']\n",
    "\n",
    "for char in cities:\n",
    "    if len(char) <=6:\n",
    "        print(char)\n",
    "\n",
    "# 4- Which of the cities has a maximum of 6 characters?\n",
    "products = [\n",
    "    {'name':'samsung S6', 'price': '3000' },\n",
    "    {'name':'samsung S7', 'price': '4000' },\n",
    "    {'name':'samsung S8', 'price': '5000' },\n",
    "    {'name':'samsung S9', 'price': '6000' },\n",
    "    {'name':'samsung S10', 'price': '7000' }\n",
    "]\n",
    "# 5- What is the sum of the prices of the products?\n",
    "# 6- Show the products with a maximum price of 5000 ?"
   ]
  },
  {
   "cell_type": "code",
   "execution_count": 64,
   "metadata": {},
   "outputs": [],
   "source": [
    "def my_function(a, b):\n",
    "    print(a * b)\n",
    "    print(my_function(3, 4))\n"
   ]
  },
  {
   "cell_type": "code",
   "execution_count": null,
   "metadata": {},
   "outputs": [],
   "source": []
  },
  {
   "cell_type": "code",
   "execution_count": 65,
   "metadata": {},
   "outputs": [
    {
     "name": "stdout",
     "output_type": "stream",
     "text": [
      "[1, 2, 3]\n"
     ]
    }
   ],
   "source": [
    "b = 0\n",
    "d = []\n",
    "while (b:=b+1)<4:\n",
    "    d.append(b)\n",
    "print(d)\n"
   ]
  },
  {
   "cell_type": "code",
   "execution_count": 70,
   "metadata": {},
   "outputs": [
    {
     "name": "stdout",
     "output_type": "stream",
     "text": [
      "5\n",
      "4\n"
     ]
    }
   ],
   "source": [
    "numbers = (11, 36, 33, 66, 89, 21, 32, 16, 10)\n",
    "ods = 0\n",
    "evens = 0\n",
    "for number in numbers:\n",
    "    if number % 2:\n",
    "        evens += 1\n",
    "    else:\n",
    "        ods += 1\n",
    "print(ods)\n",
    "print(evens)\n",
    "        \n",
    "\n"
   ]
  },
  {
   "cell_type": "code",
   "execution_count": 69,
   "metadata": {},
   "outputs": [
    {
     "name": "stdout",
     "output_type": "stream",
     "text": [
      "1\n",
      "22\n",
      "333\n",
      "4444\n",
      "55555\n",
      "666666\n",
      "7777777\n",
      "88888888\n",
      "999999999\n"
     ]
    }
   ],
   "source": [
    "for i in range(1, 10):\n",
    "    j = str(i)\n",
    "    print(j * i)\n"
   ]
  },
  {
   "cell_type": "code",
   "execution_count": 75,
   "metadata": {},
   "outputs": [
    {
     "name": "stdout",
     "output_type": "stream",
     "text": [
      "2775\n"
     ]
    }
   ],
   "source": [
    "number = range(1, 75)\n",
    "total = 0\n",
    "for i in number:\n",
    "    total = total + i\n",
    "print(total)\n"
   ]
  },
  {
   "cell_type": "code",
   "execution_count": 76,
   "metadata": {},
   "outputs": [
    {
     "name": "stdout",
     "output_type": "stream",
     "text": [
      "{'l': 4, 'o': 2, 'r': 2, 'e': 2, 'm': 2, ' ': 2, 'b': 2, 'a': 2}\n"
     ]
    }
   ],
   "source": [
    "string = \"lorem lorem blabla\"\n",
    "my_dict = {}\n",
    "for i in string:\n",
    "    if i not in my_dict:\n",
    "        my_dict[i] = 1\n",
    "    else:\n",
    "        my_dict[i] += 1\n",
    "\n",
    "print(my_dict)\n",
    "\n"
   ]
  },
  {
   "cell_type": "code",
   "execution_count": 77,
   "metadata": {},
   "outputs": [
    {
     "name": "stdout",
     "output_type": "stream",
     "text": [
      "i amhappy\n",
      "i amconfident\n",
      "you arehappy\n",
      "you areconfident\n"
     ]
    }
   ],
   "source": [
    "who = [\"i am\", \"you are\"]\n",
    "mood = [\"happy\", \"confident\"]\n",
    "for i in who:\n",
    "    for ii in mood:\n",
    "        print(i + ii)\n",
    "        "
   ]
  },
  {
   "cell_type": "code",
   "execution_count": 81,
   "metadata": {},
   "outputs": [
    {
     "name": "stdout",
     "output_type": "stream",
     "text": [
      "susan is happy\n",
      "susan is sad\n",
      "tom is happy\n",
      "tom is sad\n",
      "edward is happy\n",
      "edward is sad\n"
     ]
    }
   ],
   "source": [
    "names = [\"susan\", \"tom\", \"edward\"]\n",
    "mood = [\"happy\", \"sad\"]\n",
    "for i in names:\n",
    "    for ii in mood:\n",
    "        print(f\"{i} is {ii}\")"
   ]
  },
  {
   "cell_type": "code",
   "execution_count": null,
   "metadata": {},
   "outputs": [],
   "source": [
    "string = \"lorem lorem blabla\"\n",
    "my_dict = {}\n",
    "\n",
    "for i in string:\n",
    "    if i not in my_dict:\n",
    "        my_dict[i] = 1\n",
    "    else:\n",
    "        my_dict[i] += 1\n",
    "\n",
    "print(my_dict)"
   ]
  },
  {
   "cell_type": "code",
   "execution_count": 82,
   "metadata": {},
   "outputs": [
    {
     "name": "stdout",
     "output_type": "stream",
     "text": [
      "1 \n",
      "1 2 \n",
      "1 2 3 \n",
      "1 2 3 4 \n",
      "1 2 3 4 5 \n"
     ]
    }
   ],
   "source": [
    "rows = int(input(\"give me a row number\"))\n",
    "for i in range(1, rows + 1):\n",
    "    for j in range(1, i + 1):\n",
    "        print(j, end=\" \")\n",
    "    print()"
   ]
  },
  {
   "cell_type": "code",
   "execution_count": 84,
   "metadata": {},
   "outputs": [
    {
     "name": "stdout",
     "output_type": "stream",
     "text": [
      "4 is not a prime number\n"
     ]
    }
   ],
   "source": [
    "number = int(input('Enter a number'))\n",
    "for n in range(2, number):\n",
    "    if number % n == 0:\n",
    "        print(number, 'is not a prime number')\n",
    "        break\n",
    "    else:\n",
    "        print(number, 'is a prime number')\n",
    "        break"
   ]
  },
  {
   "cell_type": "code",
   "execution_count": null,
   "metadata": {},
   "outputs": [],
   "source": [
    "number = int(input('Enter a number'))\n",
    "counter = 0\n",
    "\n",
    "for n in range(1, number +1):\n",
    "    if number % n == 0:\n",
    "        counter += 1\n",
    "if (number )\n"
   ]
  },
  {
   "cell_type": "code",
   "execution_count": null,
   "metadata": {},
   "outputs": [],
   "source": []
  }
 ],
 "metadata": {
  "interpreter": {
   "hash": "aee8b7b246df8f9039afb4144a1f6fd8d2ca17a180786b69acc140d282b71a49"
  },
  "kernelspec": {
   "display_name": "Python 3.10.2 64-bit",
   "language": "python",
   "name": "python3"
  },
  "language_info": {
   "codemirror_mode": {
    "name": "ipython",
    "version": 3
   },
   "file_extension": ".py",
   "mimetype": "text/x-python",
   "name": "python",
   "nbconvert_exporter": "python",
   "pygments_lexer": "ipython3",
   "version": "3.10.2"
  },
  "orig_nbformat": 4
 },
 "nbformat": 4,
 "nbformat_minor": 2
}
