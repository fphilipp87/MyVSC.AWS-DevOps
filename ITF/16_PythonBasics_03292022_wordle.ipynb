{
 "cells": [
  {
   "cell_type": "markdown",
   "metadata": {},
   "source": [
    "<p align=\"center\">\n",
    "<img src=\"https://docs.google.com/uc?id=14xeXxFrVRjvOoUYWn_GuyE-v84wVzrqr\" class=\"img-fluid\" alt=\"CLRWY\" width=\"600\" height=\"120\" >\n",
    "</p>"
   ]
  },
  {
   "cell_type": "markdown",
   "metadata": {},
   "source": [
    "<h1><p style=\"text-align: center; color:yellow\">Python In-Class Session 16, <br>29 March 2022</p><h1>"
   ]
  },
  {
   "cell_type": "code",
   "execution_count": null,
   "metadata": {},
   "outputs": [],
   "source": [
    "# A dictionary/ words list\n",
    "# grab 5 letters words\n",
    "# grab according to green tiles\n",
    "# grab according to gray tiles\n",
    "# grab according to yellow tiles\n",
    "# print possible words"
   ]
  },
  {
   "cell_type": "code",
   "execution_count": null,
   "metadata": {},
   "outputs": [],
   "source": [
    "import wordsen"
   ]
  },
  {
   "cell_type": "code",
   "execution_count": null,
   "metadata": {},
   "outputs": [],
   "source": [
    "def words_Letters():\n",
    "    words_5letters = []\n",
    "    for word in wordsen.words:\n",
    "        if len(word) == 5 and word.isalpha():\n",
    "            words_5letters.append(word.lower())\n",
    "    return words_5letters"
   ]
  },
  {
   "cell_type": "code",
   "execution_count": null,
   "metadata": {},
   "outputs": [],
   "source": [
    "def grayWords(words_5letters, gray_letters):\n",
    "    gray_words = []\n",
    "\n",
    "    for word in words_5letters:\n",
    "        gray_counter = 0\n",
    "        for letter in gray_letters:\n",
    "            if letter not in word:\n",
    "                gray_counter +=1\n",
    "            if gray_counter == len(gray_letters):\n",
    "                gray_words.append(word)\n",
    "    return gray_words\n"
   ]
  },
  {
   "cell_type": "code",
   "execution_count": null,
   "metadata": {},
   "outputs": [],
   "source": [
    "def greenWords(dictionary, green_letters):\n",
    "    green_words = []\n",
    "    how_many_letters = 0\n",
    "    for i in green_letters:\n",
    "        if i:\n",
    "            how_many_letters += 1\n",
    "    \n",
    "    for word in dictionary:\n",
    "        counter = 0\n",
    "        for i in range(5):\n",
    "            if word[i] == green_letters[i]:\n",
    "                counter +=1\n",
    "        if counter == how_many_letters:\n",
    "            green_words.append(word)\n",
    "    return green_words \n",
    "# mylist = ['betsy', 'bytes', 'busty', 'cysts', 'cotys', 'cryst']\n",
    "# green_letters = [\"c\",\"\",\"y\",\"\",\"\"]\n",
    "# greenWords(mylist, green_letters)\n"
   ]
  },
  {
   "cell_type": "code",
   "execution_count": null,
   "metadata": {},
   "outputs": [],
   "source": [
    "def yellowWords(dictionary, yellow_letters):\n",
    "    yellow_words = []\n",
    "    for word in dictionary:\n",
    "        yellow_counter = 0\n",
    "        for letter in yellow_letters:\n",
    "            if letter in word:\n",
    "                yellow_counter +=1\n",
    "            if yellow_counter == len(yellow_letters):\n",
    "                yellow_words.append(word)\n",
    "    return yellow_words"
   ]
  },
  {
   "cell_type": "code",
   "execution_count": null,
   "metadata": {},
   "outputs": [],
   "source": [
    "def main():\n",
    "    a = words_Letters()\n",
    "    b = grayWords(a, gray_letters)\n",
    "    c = greenWords(b, green_letters)\n",
    "    d = yellowWords(c, yellow_letters)\n",
    "    print(f\"there are {len(d)} possible words. They are \\n{d}\")\n"
   ]
  },
  {
   "cell_type": "code",
   "execution_count": null,
   "metadata": {},
   "outputs": [],
   "source": [
    "gray_letters = \"padin\"\n",
    "green_letters = [\"\",\"\",\"\",\"\",\"\"]\n",
    "yellow_letters = \"sty\"\n",
    "main()"
   ]
  },
  {
   "cell_type": "code",
   "execution_count": null,
   "metadata": {},
   "outputs": [],
   "source": [
    "def frequency():\n",
    "    a = words_Letters()\n",
    "    my_dict = {}\n",
    "    for word in a:\n",
    "        for letter in word:\n",
    "            if letter not in my_dict:\n",
    "                my_dict[letter] = 1\n",
    "            else:\n",
    "                my_dict[letter] += 1\n",
    "    print(my_dict)\n",
    "frequency()"
   ]
  },
  {
   "cell_type": "code",
   "execution_count": 3,
   "metadata": {},
   "outputs": [],
   "source": [
    "import my_package.sub_package as myp\n"
   ]
  },
  {
   "cell_type": "code",
   "execution_count": 4,
   "metadata": {},
   "outputs": [
    {
     "ename": "ImportError",
     "evalue": "cannot import name 'square' from 'my_package.sub_package.my_module_1' (/Users/federicophilipp/Desktop/ITF/Python/Proyect 01/my_package/sub_package/my_module_1.py)",
     "output_type": "error",
     "traceback": [
      "\u001b[0;31m---------------------------------------------------------------------------\u001b[0m",
      "\u001b[0;31mImportError\u001b[0m                               Traceback (most recent call last)",
      "\u001b[1;32m/Users/federicophilipp/Desktop/ITF/Python/Proyect 01/16_PythonBasics_03292022_wordle.ipynb Cell 13'\u001b[0m in \u001b[0;36m<module>\u001b[0;34m\u001b[0m\n\u001b[0;32m----> <a href='vscode-notebook-cell:/Users/federicophilipp/Desktop/ITF/Python/Proyect%2001/16_PythonBasics_03292022_wordle.ipynb#ch0000012?line=0'>1</a>\u001b[0m \u001b[39mfrom\u001b[39;00m \u001b[39mmy_package\u001b[39;00m\u001b[39m.\u001b[39;00m\u001b[39msub_package\u001b[39;00m\u001b[39m.\u001b[39;00m\u001b[39mmy_module_1\u001b[39;00m \u001b[39mimport\u001b[39;00m square\n\u001b[1;32m      <a href='vscode-notebook-cell:/Users/federicophilipp/Desktop/ITF/Python/Proyect%2001/16_PythonBasics_03292022_wordle.ipynb#ch0000012?line=1'>2</a>\u001b[0m \u001b[39mprint\u001b[39m(square(\u001b[39m6\u001b[39m))\n",
      "\u001b[0;31mImportError\u001b[0m: cannot import name 'square' from 'my_package.sub_package.my_module_1' (/Users/federicophilipp/Desktop/ITF/Python/Proyect 01/my_package/sub_package/my_module_1.py)"
     ]
    }
   ],
   "source": [
    "from my_package.sub_package.my_module_1 import square\n",
    "print(square(6))"
   ]
  },
  {
   "cell_type": "code",
   "execution_count": null,
   "metadata": {},
   "outputs": [],
   "source": []
  }
 ],
 "metadata": {
  "interpreter": {
   "hash": "35c4bcfff6bb594ff47b51ce5b21bcb1093d06fa0c5debe7002e3be5d50f4cc1"
  },
  "kernelspec": {
   "display_name": "Python 3.10.2 64-bit",
   "language": "python",
   "name": "python3"
  },
  "language_info": {
   "codemirror_mode": {
    "name": "ipython",
    "version": 3
   },
   "file_extension": ".py",
   "mimetype": "text/x-python",
   "name": "python",
   "nbconvert_exporter": "python",
   "pygments_lexer": "ipython3",
   "version": "3.10.2"
  },
  "orig_nbformat": 4
 },
 "nbformat": 4,
 "nbformat_minor": 2
}
